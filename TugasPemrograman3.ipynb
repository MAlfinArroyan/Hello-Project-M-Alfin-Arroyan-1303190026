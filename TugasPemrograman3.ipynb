{
  "nbformat": 4,
  "nbformat_minor": 0,
  "metadata": {
    "colab": {
      "name": "TugasPemrograman3.ipynb",
      "provenance": [],
      "collapsed_sections": []
    },
    "kernelspec": {
      "name": "python3",
      "display_name": "Python 3"
    },
    "language_info": {
      "name": "python"
    }
  },
  "cells": [
    {
      "cell_type": "markdown",
      "metadata": {
        "id": "5q2H3_WnkAV9"
      },
      "source": [
        "Import Library yang diperlukan"
      ]
    },
    {
      "cell_type": "code",
      "metadata": {
        "id": "Bp9WVbY7P2Bk"
      },
      "source": [
        "import pandas as pd\n",
        "import numpy as np\n",
        "import xlsxwriter\n",
        "from sklearn.model_selection import train_test_split\n",
        "from sklearn.metrics import accuracy_score\n",
        "from sklearn.neighbors import KNeighborsClassifier\n",
        "from sklearn.metrics import classification_report"
      ],
      "execution_count": 31,
      "outputs": []
    },
    {
      "cell_type": "markdown",
      "metadata": {
        "id": "3R_gpjskcFeB"
      },
      "source": [
        "Input file data dengan sheet Data"
      ]
    },
    {
      "cell_type": "code",
      "metadata": {
        "id": "yapBBXHfUCk0"
      },
      "source": [
        "# Input file dan memasukkan kedalam variabel\n",
        "df_Data = pd.read_excel('DataSetTB3_SHARE.xlsx', sheet_name=\"Data\")\n",
        "X = df_Data.iloc[:, 2:]\n",
        "Y = df_Data['label']"
      ],
      "execution_count": 33,
      "outputs": []
    },
    {
      "cell_type": "markdown",
      "metadata": {
        "id": "bCOJ6rjCcii-"
      },
      "source": [
        "Input file data dengan sheet submit dan analisis data sheet submit"
      ]
    },
    {
      "cell_type": "code",
      "metadata": {
        "colab": {
          "base_uri": "https://localhost:8080/"
        },
        "id": "lZiDSejwaqBY",
        "outputId": "ab4d5bd6-7f55-49db-df53-2d54efe6b764"
      },
      "source": [
        "df_submit = pd.read_excel('DataSetTB3_SHARE.xlsx', sheet_name=\"Submit\")\n",
        "X_submit = df_submit.iloc[:, 1:]\n",
        "knn.fit(X, Y)\n",
        "y_pred_knn_submit = knn.predict(X_submit)\n",
        "print(y_pred_knn_submit)"
      ],
      "execution_count": 34,
      "outputs": [
        {
          "output_type": "stream",
          "text": [
            "[0 0 0 0 0 0 0 0 0 0 0 0 0 0 0 0 0 0 0 0 0 0 0 0 0 0 0 0 0 0 0 0 0 0 0 0 0\n",
            " 0 0 0 0 0 9 0 0 0 0 0 0 0 1 1 1 1 1 1 1 1 1 1 1 1 1 1 1 1 1 1 1 1 1 1 1 1\n",
            " 1 1 1 1 1 1 1 1 1 1 1 1 1 1 1 1 1 1 1 1 6 1 1 1 1 1 2 2 2 2 2 2 2 2 2 2 2\n",
            " 2 2 2 2 2 2 2 2 2 0 2 2 8 2 7 1 2 2 2 4 2 2 2 2 2 2 2 2 2 2 1 2 2 2 1 2 2\n",
            " 2 2 1 3 3 1 3 3 3 3 8 3 3 3 3 2 3 3 3 1 3 3 8 3 3 3 3 3 3 3 3 3 2 3 3 3 3\n",
            " 3 3 3 3 3 9 3 3 9 2 3 3 1 3 3 4 4 4 4 4 4 9 4 4 4 4 4 4 4 4 9 4 4 4 4 9 4\n",
            " 4 4 4 4 4 4 4 4 4 4 4 4 4 4 4 4 9 4 4 9 4 4 4 4 4 9 4 4 9 5 5 5 5 5 5 8 3\n",
            " 5 5 5 5 5 8 5 5 5 1 5 8 3 5 5 5 5 5 5 1 5 5 3 5 6 5 5 5 5 5 5 3 5 5 5 8 5\n",
            " 6 3 5 5 6 6 6 6 6 6 6 0 6 6 6 6 6 6 1 6 6 1 6 6 6 4 6 6 6 6 6 6 6 6 6 6 6\n",
            " 6 6 6 6 6 6 6 6 6 6 6 6 6 6 6 6 6 7 7 7 7 7 7 7 7 7 7 7 9 7 7 1 7 7 7 7 7\n",
            " 7 7 9 7 7 7 7 7 7 7 7 7 1 7 7 7 7 7 7 1 7 7 4 7 7 7 7 7 7 7 8 8 8 8 3 8 3\n",
            " 8 8 9 8 8 8 8 8 9 8 8 8 8 8 8 7 8 8 8 6 8 8 8 8 8 3 8 9 8 8 8 3 1 8 8 5 1\n",
            " 8 8 8 8 8 1 9 9 9 4 9 9 9 9 9 9 9 9 9 4 9 9 9 9 9 9 9 9 9 9 9 9 9 9 9 9 9\n",
            " 9 7 9 9 0 9 9 9 9 9 9 9 9 9 9 7 9 9 9]\n"
          ],
          "name": "stdout"
        }
      ]
    },
    {
      "cell_type": "markdown",
      "metadata": {
        "id": "qOqUgyyVcxms"
      },
      "source": [
        "Membagi isi dari sheet data menjadi 70:30\n"
      ]
    },
    {
      "cell_type": "code",
      "metadata": {
        "id": "P04W7_o3TT2l"
      },
      "source": [
        "X_train, X_test, y_train, y_test = train_test_split(\n",
        "    X, Y, test_size=0.3, random_state=42)"
      ],
      "execution_count": 35,
      "outputs": []
    },
    {
      "cell_type": "markdown",
      "metadata": {
        "id": "oWXorb8Cc71z"
      },
      "source": [
        "Analisis data dan penerapan KNeighborsClassifier\n"
      ]
    },
    {
      "cell_type": "code",
      "metadata": {
        "id": "CY2ow-SbXmL4"
      },
      "source": [
        "knn = KNeighborsClassifier(n_neighbors=10, weights='uniform',\n",
        "                           algorithm='auto', leaf_size=30, metric='manhattan')\n",
        "knn.fit(X_train, y_train)\n",
        "y_pred_knn = knn.predict(X_test)"
      ],
      "execution_count": 36,
      "outputs": []
    },
    {
      "cell_type": "markdown",
      "metadata": {
        "id": "FdrqR7hhdQ2M"
      },
      "source": [
        "Write data dan Membuat output file excel bernama \"OutputLatih.xlsx\"\n"
      ]
    },
    {
      "cell_type": "code",
      "metadata": {
        "colab": {
          "base_uri": "https://localhost:8080/"
        },
        "id": "QxZ8ogt7Xpli",
        "outputId": "c6248129-75d9-4ece-a0da-aad211c408b8"
      },
      "source": [
        "# # Membuat file excel \"OutputLatih.xlsx\"\n",
        "df1 = pd.DataFrame(X_test, columns=['idData'])\n",
        "numpy_array = np.array(y_pred_knn)\n",
        "print(df1.index)\n",
        "workbook = xlsxwriter.Workbook('OutputLatih.xlsx')\n",
        "worksheet = workbook.add_worksheet(\"Data\")\n",
        "worksheet.write(0, 0, 'idData')\n",
        "worksheet.write(0, 1, 'Klasifikasi')\n",
        "worksheet.write('C1', 'Akurasi')\n",
        "worksheet.write('C2', accuracy_score(y_test, y_pred_knn))\n",
        "start = 1\n",
        "for i in range(300):\n",
        "    worksheet.write(start, 0, df1.index[i])\n",
        "    worksheet.write(start, 1, numpy_array[i])\n",
        "    start += 1\n",
        "workbook.close()"
      ],
      "execution_count": 37,
      "outputs": [
        {
          "output_type": "stream",
          "text": [
            "Int64Index([521, 737, 740, 660, 411, 678, 626, 513, 859, 136,\n",
            "            ...\n",
            "            946, 796, 501, 464, 362, 468, 935, 428,   7, 155],\n",
            "           dtype='int64', length=300)\n"
          ],
          "name": "stdout"
        }
      ]
    },
    {
      "cell_type": "markdown",
      "metadata": {
        "id": "nbknGTK2drDH"
      },
      "source": [
        "Write data dan Membuat output file excel bernama \"OutputSubmit.xlsx\""
      ]
    },
    {
      "cell_type": "code",
      "metadata": {
        "colab": {
          "base_uri": "https://localhost:8080/"
        },
        "id": "6Xkwhc8eX0zz",
        "outputId": "a3679909-b40a-47d4-8c5f-645fb7d151e0"
      },
      "source": [
        "df2 = pd.DataFrame(X_submit, columns=['idData'])\n",
        "numpy_array_submit = np.array(y_pred_knn_submit)\n",
        "print(df1.index)\n",
        "workbook = xlsxwriter.Workbook('OutputSubmit.xlsx')\n",
        "worksheet = workbook.add_worksheet(\"Submit\")\n",
        "worksheet.write(0, 0, 'idData')\n",
        "worksheet.write(0, 1, 'Klasifikasi')\n",
        "start = 1\n",
        "for i in range(500):\n",
        "    worksheet.write(start, 0, df2.index[i]+1)\n",
        "    worksheet.write(start, 1, numpy_array_submit[i])\n",
        "    start += 1\n",
        "workbook.close()"
      ],
      "execution_count": 40,
      "outputs": [
        {
          "output_type": "stream",
          "text": [
            "Int64Index([521, 737, 740, 660, 411, 678, 626, 513, 859, 136,\n",
            "            ...\n",
            "            946, 796, 501, 464, 362, 468, 935, 428,   7, 155],\n",
            "           dtype='int64', length=300)\n"
          ],
          "name": "stdout"
        }
      ]
    },
    {
      "cell_type": "markdown",
      "metadata": {
        "id": "1olsMYf-f6Bd"
      },
      "source": [
        "Tingkat nilai akurasi dari metode yang digunakan dengan Nilai dari K"
      ]
    },
    {
      "cell_type": "code",
      "metadata": {
        "colab": {
          "base_uri": "https://localhost:8080/"
        },
        "id": "UJxnNj7CX8dz",
        "outputId": "2e30d24b-aaa1-4d70-fe42-890905e2383a"
      },
      "source": [
        " knn = KNeighborsClassifier(n_neighbors=10, weights='uniform',\n",
        "                            algorithm='auto', leaf_size=30, metric='manhattan')\n",
        " knn.fit(X_train, y_train)\n",
        " y_pred_knn = knn.predict(X_test)\n",
        " print(\"Akurasi manhattan dengan Nilai k = 10 adalah\",\n",
        "       accuracy_score(y_test, y_pred_knn))\n",
        " knn = KNeighborsClassifier(n_neighbors=15, weights='uniform',\n",
        "                            algorithm='auto', leaf_size=30, metric='manhattan')\n",
        " knn.fit(X_train, y_train)\n",
        " y_pred_knn = knn.predict(X_test)\n",
        " print(\"Akurasi manhattan dengan Nilai k = 15 adalah\",\n",
        "       accuracy_score(y_test, y_pred_knn))\n",
        " knn = KNeighborsClassifier(n_neighbors=10, weights='uniform',\n",
        "                            algorithm='auto', leaf_size=30, metric='minkowski')\n",
        " knn.fit(X_train, y_train)\n",
        " y_pred_knn = knn.predict(X_test)\n",
        " print(\"Akurasi minkowski dengan Nilai k = 10 adalah\",\n",
        "       accuracy_score(y_test, y_pred_knn))\n",
        " knn = KNeighborsClassifier(n_neighbors=15, weights='uniform',\n",
        "                            algorithm='auto', leaf_size=30, metric='minkowski')\n",
        " knn.fit(X_train, y_train)\n",
        " y_pred_knn = knn.predict(X_test)\n",
        " print(\"Akurasi minkowski dengan Nilai k = 15 adalah\",\n",
        "       accuracy_score(y_test, y_pred_knn))\n"
      ],
      "execution_count": 43,
      "outputs": [
        {
          "output_type": "stream",
          "text": [
            "Akurasi manhattan dengan Nilai k = 10 adalah 0.78\n",
            "Akurasi manhattan dengan Nilai k = 15 adalah 0.7733333333333333\n",
            "Akurasi minkowski dengan Nilai k = 10 adalah 0.7866666666666666\n",
            "Akurasi minkowski dengan Nilai k = 15 adalah 0.77\n"
          ],
          "name": "stdout"
        }
      ]
    },
    {
      "cell_type": "code",
      "metadata": {
        "id": "0eBAt5f8jZ9K"
      },
      "source": [
        ""
      ],
      "execution_count": null,
      "outputs": []
    }
  ]
}